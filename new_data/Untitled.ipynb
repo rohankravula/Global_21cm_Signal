{
 "cells": [
  {
   "cell_type": "code",
   "execution_count": null,
   "id": "85359a4e-6984-449a-baaa-d63b2c2b47ef",
   "metadata": {},
   "outputs": [],
   "source": []
  }
 ],
 "metadata": {
  "kernelspec": {
   "display_name": "",
   "name": ""
  },
  "language_info": {
   "name": ""
  }
 },
 "nbformat": 4,
 "nbformat_minor": 5
}
